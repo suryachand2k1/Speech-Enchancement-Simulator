{
 "cells": [
  {
   "cell_type": "code",
   "execution_count": 2,
   "metadata": {
    "colab": {},
    "colab_type": "code",
    "id": "2KgsqnsIPdxd",
    "scrolled": true
   },
   "outputs": [],
   "source": [
    "import os\n",
    "import librosa\n",
    "import numpy as np\n",
    "import matplotlib.pyplot as plt\n",
    "import tensorflow.compat.v1 as tf\n",
    "tf.disable_v2_behavior()"
   ]
  },
  {
   "cell_type": "code",
   "execution_count": 3,
   "metadata": {
    "colab": {},
    "colab_type": "code",
    "id": "01ClEGd9Wez4"
   },
   "outputs": [],
   "source": [
    "#Loading training and testing files\n",
    "#Computing STFT on all the files\n",
    "s, sr = librosa.load('input/train_clean_male.wav', sr=None)\n",
    "S = librosa.stft(s, n_fft=1024, hop_length=512)\n",
    "\n",
    "sn, sr = librosa.load('input/train_dirty_male.wav', sr=None)\n",
    "X = librosa.stft(sn, n_fft=1024, hop_length=512)\n",
    "\n",
    "x_test, sr = librosa.load('input/test_x_01.wav', sr=None)\n",
    "X_test = librosa.stft(x_test, n_fft=1024, hop_length=512)\n",
    "\n",
    "x_test2, sr = librosa.load('input/test_x_02.wav', sr=None)\n",
    "X_test2 = librosa.stft(x_test2, n_fft=1024, hop_length=512)"
   ]
  },
  {
   "cell_type": "code",
   "execution_count": 4,
   "metadata": {
    "colab": {},
    "colab_type": "code",
    "id": "64FCDoubWvoO"
   },
   "outputs": [],
   "source": [
    "#Calculating the magnitude of all the input files\n",
    "mag_S = np.abs(S)\n",
    "mag_X = np.abs(X)\n",
    "mag_X_test = np.abs(X_test)\n",
    "mag_X_test2 = np.abs(X_test2)\n",
    "\n",
    "#Defining model specifications\n",
    "learning_rate = 0.001\n",
    "act_layers = [tf.nn.relu, tf.nn.relu, tf.nn.relu, tf.nn.relu]\n",
    "neurons = [513, 513, 513, 513]\n",
    "num_layers = len(act_layers)"
   ]
  },
  {
   "cell_type": "code",
   "execution_count": 5,
   "metadata": {
    "colab": {
     "base_uri": "https://localhost:8080/",
     "height": 142
    },
    "colab_type": "code",
    "id": "JMezPnXIW4Gv",
    "outputId": "4251ab02-468a-474b-f763-872b429adaff"
   },
   "outputs": [
    {
     "name": "stdout",
     "output_type": "stream",
     "text": [
      "WARNING:tensorflow:From <ipython-input-5-fde43afa7b18>:9: dense (from tensorflow.python.keras.legacy_tf_layers.core) is deprecated and will be removed in a future version.\n",
      "Instructions for updating:\n",
      "Use keras.layers.Dense instead.\n",
      "WARNING:tensorflow:From C:\\Users\\Tru-pro\\AppData\\Roaming\\Python\\Python38\\site-packages\\tensorflow\\python\\keras\\legacy_tf_layers\\core.py:187: Layer.apply (from tensorflow.python.keras.engine.base_layer_v1) is deprecated and will be removed in a future version.\n",
      "Instructions for updating:\n",
      "Please use `layer.__call__` method instead.\n"
     ]
    }
   ],
   "source": [
    "#Generating a deep network of n layers with specific activation functions\n",
    "#and specified number of neurons in each layer\n",
    "def getModel(x , act_layers , neurons):\n",
    "    num_layers = len(act_layers)\n",
    "    layers = [0]*num_layers\n",
    "    \n",
    "    for i in range(0 , len(act_layers)):        \n",
    "        if i == 0:\n",
    "            layers[i] = tf.layers.dense(x , units= neurons[i] , activation=act_layers[i])        \n",
    "        elif i < num_layers-1:\n",
    "            layers[i] = tf.layers.dense(layers[i-1] , units= neurons[i] , activation=act_layers[i])\n",
    "        else:\n",
    "            layers[i] = tf.layers.dense(layers[i-1] , units= neurons[i] , activation=act_layers[i])\n",
    "    \n",
    "    return layers\n",
    "\n",
    "#Creating placeholders for input and output\n",
    "input = tf.placeholder(tf.float32, [None, 513])\n",
    "labels = tf.placeholder(tf.float32, [None, 513])\n",
    "\n",
    "output = getModel(input, act_layers, neurons)"
   ]
  },
  {
   "cell_type": "code",
   "execution_count": 6,
   "metadata": {
    "colab": {
     "base_uri": "https://localhost:8080/",
     "height": 210
    },
    "colab_type": "code",
    "id": "kyZl3kuBW9oO",
    "outputId": "2fd826ac-b1a4-4779-a349-b25bf21964f8"
   },
   "outputs": [
    {
     "name": "stdout",
     "output_type": "stream",
     "text": [
      "Epoch 0, loss 0.00663616\n",
      "Epoch 10, loss 0.00213117\n",
      "Epoch 20, loss 0.00187513\n",
      "Epoch 30, loss 0.00148363\n",
      "Epoch 40, loss 0.00115989\n",
      "Epoch 50, loss 0.00135642\n",
      "Epoch 60, loss 0.000946548\n",
      "Epoch 70, loss 0.000907108\n",
      "Epoch 80, loss 0.000894378\n",
      "Epoch 90, loss 0.000893587\n",
      "Epoch 100, loss 0.000799187\n",
      "Epoch 110, loss 0.000725083\n",
      "Epoch 120, loss 0.000850075\n",
      "Epoch 130, loss 0.000652957\n",
      "Epoch 140, loss 0.00120002\n",
      "Epoch 150, loss 0.00083351\n",
      "Epoch 160, loss 0.000772839\n",
      "Epoch 170, loss 0.000676201\n",
      "Epoch 180, loss 0.000788015\n",
      "Epoch 190, loss 0.00119815\n",
      "Epoch 200, loss 0.000910781\n",
      "Epoch 210, loss 0.00130056\n",
      "Epoch 220, loss 0.000547659\n",
      "Epoch 230, loss 0.000595519\n",
      "Epoch 240, loss 0.000504148\n",
      "Epoch 250, loss 0.000666248\n",
      "Epoch 260, loss 0.000681327\n",
      "Epoch 270, loss 0.000452497\n",
      "Epoch 280, loss 0.000536667\n",
      "Epoch 290, loss 0.000576298\n",
      "Epoch 300, loss 0.000761346\n",
      "Epoch 310, loss 0.000502072\n",
      "Epoch 320, loss 0.000416536\n",
      "Epoch 330, loss 0.000359763\n",
      "Epoch 340, loss 0.000474319\n",
      "Epoch 350, loss 0.000431665\n",
      "Epoch 360, loss 0.000363007\n",
      "Epoch 370, loss 0.000487293\n",
      "Epoch 380, loss 0.000722939\n",
      "Epoch 390, loss 0.000448199\n",
      "Epoch 400, loss 0.000389133\n",
      "Epoch 410, loss 0.000534468\n",
      "Epoch 420, loss 0.000558975\n",
      "Epoch 430, loss 0.000364216\n",
      "Epoch 440, loss 0.000314433\n",
      "Epoch 450, loss 0.000295273\n",
      "Epoch 460, loss 0.000306264\n",
      "Epoch 470, loss 0.000332729\n",
      "Epoch 480, loss 0.000516111\n",
      "Epoch 490, loss 0.000500813\n",
      "Epoch 500, loss 0.000317045\n",
      "Epoch 510, loss 0.000295914\n",
      "Epoch 520, loss 0.00024197\n",
      "Epoch 530, loss 0.00025019\n",
      "Epoch 540, loss 0.000327139\n",
      "Epoch 550, loss 0.000703941\n",
      "Epoch 560, loss 0.000431862\n",
      "Epoch 570, loss 0.000247831\n",
      "Epoch 580, loss 0.000202968\n",
      "Epoch 590, loss 0.000220306\n",
      "Epoch 600, loss 0.000245367\n",
      "Epoch 610, loss 0.00041498\n",
      "Epoch 620, loss 0.00059251\n",
      "Epoch 630, loss 0.000249238\n",
      "Epoch 640, loss 0.000193712\n",
      "Epoch 650, loss 0.000213945\n",
      "Epoch 660, loss 0.000260204\n",
      "Epoch 670, loss 0.000613347\n",
      "Epoch 680, loss 0.000285811\n",
      "Epoch 690, loss 0.000178193\n",
      "Epoch 700, loss 0.00019276\n",
      "Epoch 710, loss 0.000227164\n",
      "Epoch 720, loss 0.000258391\n",
      "Epoch 730, loss 0.000389762\n",
      "Epoch 740, loss 0.000500329\n",
      "Epoch 750, loss 0.000221499\n",
      "Epoch 760, loss 0.000189122\n",
      "Epoch 770, loss 0.000251496\n",
      "Epoch 780, loss 0.000255046\n",
      "Epoch 790, loss 0.000298239\n",
      "Epoch 800, loss 0.000467083\n",
      "Epoch 810, loss 0.000303335\n",
      "Epoch 820, loss 0.000189803\n",
      "Epoch 830, loss 0.000202346\n",
      "Epoch 840, loss 0.00023661\n",
      "Epoch 850, loss 0.000298866\n",
      "Epoch 860, loss 0.000323414\n",
      "Epoch 870, loss 0.000372626\n",
      "Epoch 880, loss 0.000192481\n",
      "Epoch 890, loss 0.000165021\n",
      "Epoch 900, loss 0.000212552\n",
      "Epoch 910, loss 0.00033089\n",
      "Epoch 920, loss 0.000378161\n",
      "Epoch 930, loss 0.000190097\n",
      "Epoch 940, loss 0.000174398\n",
      "Epoch 950, loss 0.000245077\n",
      "Epoch 960, loss 0.000278675\n",
      "Epoch 970, loss 0.000315911\n",
      "Epoch 980, loss 0.00021249\n",
      "Epoch 990, loss 0.000171689\n",
      "Epoch 1000, loss 0.000180177\n"
     ]
    }
   ],
   "source": [
    "#Defining the loss function along with its optimizer\n",
    "loss = tf.reduce_mean(tf.square(output[num_layers - 1]-labels))\n",
    "train_step = tf.train.AdamOptimizer(learning_rate).minimize(loss)\n",
    "\n",
    "sess = tf.InteractiveSession()\n",
    "sess.run(tf.global_variables_initializer())\n",
    "\n",
    "count = 0\n",
    "batch_size = 100\n",
    "flag = True\n",
    "\n",
    "while flag:\n",
    "    size = 0\n",
    "    #Mini batching with the given batch size\n",
    "    for i in range(0 , 2500, batch_size):\n",
    "        size += batch_size\n",
    "        if size <= 2459:\n",
    "            batch_x = mag_X[:,i : size]\n",
    "            batch_y = mag_S[:,i : size]\n",
    "        else:\n",
    "            batch_x = mag_X[:,i : 2459]\n",
    "            batch_y = mag_S[:,i : 2459]\n",
    "       \n",
    "        \n",
    "        feed_dict = {input: batch_x.T, labels: batch_y.T}\n",
    "        train_step.run(feed_dict=feed_dict)\n",
    "   \n",
    "    if count%10 == 0:             \n",
    "        loss_calc = loss.eval(feed_dict=feed_dict)\n",
    "        print(\"Epoch %d, loss %g\"%(count, loss_calc))\n",
    "    \n",
    "    #Once 100 epochs are completed, training is stopped\n",
    "    if count >= 1000:\n",
    "        flag = False  \n",
    "        \n",
    "    count+=1"
   ]
  },
  {
   "cell_type": "code",
   "execution_count": 7,
   "metadata": {
    "colab": {},
    "colab_type": "code",
    "id": "9xJA3y88hAfi"
   },
   "outputs": [],
   "source": [
    "#Calculating the output from the given input, trained model and layer number\n",
    "def feedforward(input_data, dnn_output , layer_num):\n",
    "    output = dnn_output[layer_num - 1].eval(feed_dict = {input : input_data})\n",
    "    \n",
    "    return output\n",
    "\n",
    "#Recovering the complex values of the file from the output of the model\n",
    "def recover_sound(X , mag_X , mag_output):\n",
    "  temp = X / mag_X\n",
    "  s_hat = temp * mag_output\n",
    "  \n",
    "  return s_hat"
   ]
  },
  {
   "cell_type": "code",
   "execution_count": 8,
   "metadata": {
    "colab": {},
    "colab_type": "code",
    "id": "XCgYgfFuuQGu"
   },
   "outputs": [],
   "source": [
    "#Computing the output from the model for both the test files\n",
    "s_hat_test1 = feedforward(mag_X_test.T , output , 4)\n",
    "s_hat_test2 = feedforward(mag_X_test2.T , output , 4)\n",
    "\n",
    "#Recovering the complex values of both the test files\n",
    "s_hat1 = recover_sound(X_test , mag_X_test , s_hat_test1.T)\n",
    "s_hat2 = recover_sound(X_test2 , mag_X_test2 , s_hat_test2.T)"
   ]
  },
  {
   "cell_type": "code",
   "execution_count": 9,
   "metadata": {
    "colab": {},
    "colab_type": "code",
    "id": "cHKUBXAq3_C6"
   },
   "outputs": [],
   "source": [
    "#Reconstructing the test files after removing noise\n",
    "import soundfile as sf\n",
    "recon_sound = librosa.istft(s_hat1 , hop_length=512 , win_length=1024)\n",
    "sf.write('output/test_DNN_s_01_recons.wav', recon_sound, sr)\n",
    "\n",
    "recon_sound2 = librosa.istft(s_hat2 , hop_length=512 , win_length=1024)\n",
    "sf.write('output/test_DNN_s_02_recons.wav', recon_sound2, sr)"
   ]
  },
  {
   "cell_type": "code",
   "execution_count": 10,
   "metadata": {
    "colab": {},
    "colab_type": "code",
    "id": "uKKJX2otZMB2"
   },
   "outputs": [],
   "source": [
    "#For testing purpose, feeding the model with train_dirty_male file\n",
    "#From the output generated, reconstructing the audio file\n",
    "s_hat_test3 = feedforward(mag_X.T , output , 4)\n",
    "s_hat3 = recover_sound(X, mag_X , s_hat_test3.T)\n",
    "recon_sound3 = librosa.istft(s_hat3 , hop_length=512 , win_length=1024)\n",
    "size_recon_sound3 = np.shape(recon_sound3)[0]"
   ]
  },
  {
   "cell_type": "code",
   "execution_count": 11,
   "metadata": {
    "colab": {
     "base_uri": "https://localhost:8080/",
     "height": 34
    },
    "colab_type": "code",
    "id": "5z-fgfR8amj0",
    "outputId": "2bb51176-cee7-4668-f4dc-aaa11a725785"
   },
   "outputs": [
    {
     "name": "stdout",
     "output_type": "stream",
     "text": [
      "Value of SNR : 18.82308006286621\n"
     ]
    }
   ],
   "source": [
    "#Once the audio file is generated, calculating the SNR value\n",
    "s = s[: size_recon_sound3]\n",
    "num = np.dot(s.T , s)\n",
    "den = np.dot((s - recon_sound3).T,(s - recon_sound3))\n",
    "SNR = 10 * np.log10(num/den)\n",
    "print('Value of SNR : ' + str(SNR))"
   ]
  },
  {
   "cell_type": "markdown",
   "metadata": {},
   "source": [
    "# CNN - 1D"
   ]
  },
  {
   "cell_type": "code",
   "execution_count": 12,
   "metadata": {},
   "outputs": [],
   "source": [
    "import librosa\n",
    "import numpy as np"
   ]
  },
  {
   "cell_type": "code",
   "execution_count": 13,
   "metadata": {},
   "outputs": [],
   "source": [
    "#Loading training and testing files\n",
    "#Computing STFT on all the files\n",
    "s, sr = librosa.load('input/train_clean_male.wav', sr=None)\n",
    "S = librosa.stft(s, n_fft=1024, hop_length=512)\n",
    "\n",
    "sn, sr = librosa.load('input/train_dirty_male.wav', sr=None)\n",
    "X = librosa.stft(sn, n_fft=1024, hop_length=512)\n",
    "\n",
    "x_test, sr = librosa.load('input/test_x_01.wav', sr=None)\n",
    "X_test = librosa.stft(x_test, n_fft=1024, hop_length=512)\n",
    "\n",
    "x_test2, sr = librosa.load('input/test_x_02.wav', sr=None)\n",
    "X_test2 = librosa.stft(x_test2, n_fft=1024, hop_length=512)"
   ]
  },
  {
   "cell_type": "code",
   "execution_count": 14,
   "metadata": {},
   "outputs": [],
   "source": [
    "#Calculating the magnitude of all the input files\n",
    "mag_S = np.abs(S)\n",
    "mag_X = np.abs(X)\n",
    "mag_X_test = np.abs(X_test)\n",
    "mag_X_test2 = np.abs(X_test2)\n",
    "\n",
    "#Defining model specifications\n",
    "learning_rate = 0.0002\n",
    "num_epochs = 1000"
   ]
  },
  {
   "cell_type": "code",
   "execution_count": 15,
   "metadata": {},
   "outputs": [],
   "source": [
    "input = tf.placeholder(tf.float32, [None, 513])\n",
    "labels = tf.placeholder(tf.float32, [None, 513])"
   ]
  },
  {
   "cell_type": "code",
   "execution_count": 16,
   "metadata": {},
   "outputs": [],
   "source": [
    "def getModel(x):\n",
    "  # Input Layer\n",
    "  input_layer = tf.reshape(x, [-1, 513, 1])\n",
    "\n",
    "  # Convolutional Layer #1\n",
    "  conv1 = tf.layers.conv1d(\n",
    "      inputs=input_layer,\n",
    "      filters=16,\n",
    "      kernel_size=16,\n",
    "      padding=\"same\",\n",
    "      activation=tf.nn.relu)\n",
    "\n",
    "  # Pooling Layer #1\n",
    "  pool1 = tf.layers.max_pooling1d(inputs=conv1, pool_size=2, strides=2)\n",
    "\n",
    "  # Convolutional Layer #2 and Pooling Layer #2\n",
    "  conv2 = tf.layers.conv1d(\n",
    "      inputs=pool1,\n",
    "      filters=32,\n",
    "      kernel_size=8,\n",
    "      padding=\"same\",\n",
    "      activation=tf.nn.relu)\n",
    "  \n",
    "  pool2 = tf.layers.max_pooling1d(inputs=conv2, pool_size=2, strides=2)\n",
    "\n",
    "  # Dense Layer\n",
    "  pool2_flat = tf.layers.flatten(pool2)\n",
    "  \n",
    "  logits = tf.layers.dense(inputs=pool2_flat, units=513, activation=tf.nn.relu)\n",
    "  \n",
    "  return logits"
   ]
  },
  {
   "cell_type": "code",
   "execution_count": 18,
   "metadata": {},
   "outputs": [
    {
     "name": "stdout",
     "output_type": "stream",
     "text": [
      "Epoch 0, loss 0.0124186\n",
      "Epoch 10, loss 0.00334485\n",
      "Epoch 20, loss 0.00212749\n",
      "Epoch 30, loss 0.00177173\n",
      "Epoch 40, loss 0.00156587\n",
      "Epoch 50, loss 0.00147931\n",
      "Epoch 60, loss 0.00136968\n",
      "Epoch 70, loss 0.0013112\n",
      "Epoch 80, loss 0.00122777\n",
      "Epoch 90, loss 0.00118949\n",
      "Epoch 100, loss 0.00111326\n",
      "Epoch 110, loss 0.00107464\n",
      "Epoch 120, loss 0.00103025\n",
      "Epoch 130, loss 0.00102498\n",
      "Epoch 140, loss 0.000974766\n",
      "Epoch 150, loss 0.000938474\n",
      "Epoch 160, loss 0.000909572\n",
      "Epoch 170, loss 0.000874571\n",
      "Epoch 180, loss 0.00087669\n",
      "Epoch 190, loss 0.00084919\n",
      "Epoch 200, loss 0.000811207\n",
      "Epoch 210, loss 0.000790511\n",
      "Epoch 220, loss 0.000785732\n",
      "Epoch 230, loss 0.000775171\n",
      "Epoch 240, loss 0.000767041\n",
      "Epoch 250, loss 0.00074851\n",
      "Epoch 260, loss 0.000748232\n",
      "Epoch 270, loss 0.000748358\n",
      "Epoch 280, loss 0.000752482\n",
      "Epoch 290, loss 0.000762173\n",
      "Epoch 300, loss 0.000728872\n",
      "Epoch 310, loss 0.000716027\n",
      "Epoch 320, loss 0.000678239\n",
      "Epoch 330, loss 0.000674885\n",
      "Epoch 340, loss 0.000675382\n",
      "Epoch 350, loss 0.000731009\n",
      "Epoch 360, loss 0.000702167\n",
      "Epoch 370, loss 0.000672024\n",
      "Epoch 380, loss 0.000645432\n",
      "Epoch 390, loss 0.000660674\n",
      "Epoch 400, loss 0.000625504\n",
      "Epoch 410, loss 0.000648789\n",
      "Epoch 420, loss 0.000621178\n",
      "Epoch 430, loss 0.000665639\n",
      "Epoch 440, loss 0.000660491\n",
      "Epoch 450, loss 0.00060851\n",
      "Epoch 460, loss 0.000621223\n",
      "Epoch 470, loss 0.00060601\n",
      "Epoch 480, loss 0.000628826\n",
      "Epoch 490, loss 0.000666245\n",
      "Epoch 500, loss 0.000657118\n",
      "Epoch 510, loss 0.000643566\n",
      "Epoch 520, loss 0.000601334\n",
      "Epoch 530, loss 0.000599281\n",
      "Epoch 540, loss 0.000573253\n",
      "Epoch 550, loss 0.000558136\n",
      "Epoch 560, loss 0.000588274\n",
      "Epoch 570, loss 0.000548869\n",
      "Epoch 580, loss 0.000539636\n",
      "Epoch 590, loss 0.000543705\n",
      "Epoch 600, loss 0.00055208\n",
      "Epoch 610, loss 0.000522659\n",
      "Epoch 620, loss 0.000558612\n",
      "Epoch 630, loss 0.00056441\n",
      "Epoch 640, loss 0.000542451\n",
      "Epoch 650, loss 0.000553687\n",
      "Epoch 660, loss 0.000522313\n",
      "Epoch 670, loss 0.000522909\n",
      "Epoch 680, loss 0.000545249\n",
      "Epoch 690, loss 0.000512465\n",
      "Epoch 700, loss 0.000559213\n",
      "Epoch 710, loss 0.000517546\n",
      "Epoch 720, loss 0.000505031\n",
      "Epoch 730, loss 0.000560607\n",
      "Epoch 740, loss 0.000543432\n",
      "Epoch 750, loss 0.000502212\n",
      "Epoch 760, loss 0.00049842\n",
      "Epoch 770, loss 0.000501658\n",
      "Epoch 780, loss 0.000486771\n",
      "Epoch 790, loss 0.000485998\n",
      "Epoch 800, loss 0.000470161\n",
      "Epoch 810, loss 0.000471021\n",
      "Epoch 820, loss 0.000465109\n",
      "Epoch 830, loss 0.000509628\n",
      "Epoch 840, loss 0.000476401\n",
      "Epoch 850, loss 0.000465062\n",
      "Epoch 860, loss 0.000466132\n",
      "Epoch 870, loss 0.000481077\n",
      "Epoch 880, loss 0.0005042\n",
      "Epoch 890, loss 0.000472663\n",
      "Epoch 900, loss 0.000481665\n",
      "Epoch 910, loss 0.000535029\n",
      "Epoch 920, loss 0.000443284\n",
      "Epoch 930, loss 0.000458266\n",
      "Epoch 940, loss 0.000424658\n",
      "Epoch 950, loss 0.00042507\n",
      "Epoch 960, loss 0.00043473\n",
      "Epoch 970, loss 0.000468238\n",
      "Epoch 980, loss 0.000423786\n",
      "Epoch 990, loss 0.000413462\n",
      "Epoch 1000, loss 0.000420238\n"
     ]
    }
   ],
   "source": [
    "output = getModel(input)\n",
    "#Defining the loss function along with its optimizer\n",
    "loss = tf.reduce_mean(tf.square(output - labels))\n",
    "train_step = tf.train.AdamOptimizer(learning_rate).minimize(loss)\n",
    "\n",
    "sess = tf.InteractiveSession()\n",
    "sess.run(tf.global_variables_initializer())\n",
    "\n",
    "count = 0\n",
    "batch_size = 100\n",
    "flag = True\n",
    "\n",
    "while flag:\n",
    "    size = 0\n",
    "    #Mini batching with the given batch size\n",
    "    for i in range(0 , 2459, batch_size):\n",
    "        size += batch_size\n",
    "        if size <= 2459:\n",
    "            batch_x = mag_X[:,i : size]\n",
    "            batch_y = mag_S[:,i : size]\n",
    "        else:\n",
    "            batch_x = mag_X[:,i : 2459]\n",
    "            batch_y = mag_S[:,i : 2459]\n",
    "       \n",
    "        feed_dict = {input: batch_x.T, labels: batch_y.T}\n",
    "        train_step.run(feed_dict=feed_dict)\n",
    "   \n",
    "    if count%10 == 0:\n",
    "        loss_calc = loss.eval(feed_dict=feed_dict)\n",
    "        print(\"Epoch %d, loss %g\"%(count, loss_calc))\n",
    "    \n",
    "    #Once all the epochs are completed, training is stopped\n",
    "    if count >= num_epochs:\n",
    "        flag = False  \n",
    "        \n",
    "    count+=1"
   ]
  },
  {
   "cell_type": "code",
   "execution_count": 19,
   "metadata": {},
   "outputs": [],
   "source": [
    "#Calculating the output from the given input, trained model and layer number\n",
    "def feedforward(input_data, dnn_output):\n",
    "    output = dnn_output.eval(feed_dict = {input : input_data})\n",
    "    \n",
    "    return output\n",
    "\n",
    "#Recovering the complex values of the file from the output of the model\n",
    "def recover_sound(X , mag_X , mag_output):\n",
    "  temp = X / mag_X\n",
    "  s_hat = temp * mag_output\n",
    "  \n",
    "  return s_hat"
   ]
  },
  {
   "cell_type": "code",
   "execution_count": 20,
   "metadata": {},
   "outputs": [],
   "source": [
    "#Computing the output from the model for both the test files\n",
    "s_hat_test1 = feedforward(mag_X_test.T , output)\n",
    "s_hat_test2 = feedforward(mag_X_test2.T , output)\n",
    "\n",
    "#Recovering the complex values of both the test files\n",
    "s_hat1 = recover_sound(X_test , mag_X_test , s_hat_test1.T)\n",
    "s_hat2 = recover_sound(X_test2 , mag_X_test2 , s_hat_test2.T)"
   ]
  },
  {
   "cell_type": "code",
   "execution_count": 21,
   "metadata": {},
   "outputs": [],
   "source": [
    "#Reconstructing the test files after removing noise\n",
    "recon_sound = librosa.istft(s_hat1 , hop_length=512 , win_length=1024)\n",
    "sf.write('output/test_CNN1_s_01_recons_q1.wav', recon_sound, sr)\n",
    "\n",
    "recon_sound2 = librosa.istft(s_hat2 , hop_length=512 , win_length=1024)\n",
    "sf.write('output/test_CNN1_s_02_recons_q1.wav', recon_sound2, sr)"
   ]
  },
  {
   "cell_type": "code",
   "execution_count": 22,
   "metadata": {},
   "outputs": [],
   "source": [
    "#For testing purpose, feeding the model with train_dirty_male file\n",
    "#From the output generated, reconstructing the audio file\n",
    "s_hat_test3 = feedforward(mag_X.T , output)\n",
    "s_hat3 = recover_sound(X, mag_X , s_hat_test3.T)\n",
    "recon_sound3 = librosa.istft(s_hat3 , hop_length=512 , win_length=1024)\n",
    "size_recon_sound3 = np.shape(recon_sound3)[0]"
   ]
  },
  {
   "cell_type": "code",
   "execution_count": 23,
   "metadata": {},
   "outputs": [
    {
     "name": "stdout",
     "output_type": "stream",
     "text": [
      "Value of SNR : 17.482469081878662\n"
     ]
    }
   ],
   "source": [
    "#Once the audio file is generated, calculating the SNR value\n",
    "s = s[: size_recon_sound3]\n",
    "num = np.dot(s.T , s)\n",
    "den = np.dot((s - recon_sound3).T,(s - recon_sound3))\n",
    "SNR = 10 * np.log10(num/den)\n",
    "print('Value of SNR : ' + str(SNR))"
   ]
  },
  {
   "cell_type": "markdown",
   "metadata": {},
   "source": [
    "# CNN - 2D"
   ]
  },
  {
   "cell_type": "code",
   "execution_count": 24,
   "metadata": {},
   "outputs": [],
   "source": [
    "import librosa\n",
    "import numpy as np\n",
    "import matplotlib.pyplot as plt\n",
    "import random\n",
    "import copy"
   ]
  },
  {
   "cell_type": "code",
   "execution_count": 25,
   "metadata": {},
   "outputs": [],
   "source": [
    "#Loading training and testing files\n",
    "#Computing STFT on all the files\n",
    "s, sr = librosa.load('input/train_clean_male.wav', sr=None)\n",
    "S = librosa.stft(s, n_fft=1024, hop_length=512)\n",
    "\n",
    "sn, sr = librosa.load('input/train_dirty_male.wav', sr=None)\n",
    "X = librosa.stft(sn, n_fft=1024, hop_length=512)\n",
    "\n",
    "x_test, sr = librosa.load('input/test_x_01.wav', sr=None)\n",
    "X_test = librosa.stft(x_test, n_fft=1024, hop_length=512)\n",
    "\n",
    "x_test2, sr = librosa.load('input/test_x_02.wav', sr=None)\n",
    "X_test2 = librosa.stft(x_test2, n_fft=1024, hop_length=512)"
   ]
  },
  {
   "cell_type": "code",
   "execution_count": 26,
   "metadata": {},
   "outputs": [],
   "source": [
    "#Calculating the magnitude of all the input files\n",
    "mag_S = np.abs(S)\n",
    "mag_X = np.abs(X)\n",
    "mag_X_test = np.abs(X_test)\n",
    "mag_X_test2 = np.abs(X_test2)\n",
    "\n",
    "#Defining model specifications\n",
    "learning_rate = 0.0002\n",
    "num_epochs = 2000\n",
    "batch_size = 64\n",
    "window_size = 20"
   ]
  },
  {
   "cell_type": "code",
   "execution_count": 27,
   "metadata": {},
   "outputs": [],
   "source": [
    "input = tf.placeholder(tf.float32, [None, 513])\n",
    "labels = tf.placeholder(tf.float32, [None, 513])"
   ]
  },
  {
   "cell_type": "code",
   "execution_count": 28,
   "metadata": {},
   "outputs": [],
   "source": [
    "def getModel(x):\n",
    "  # Input Layer\n",
    "  input_layer = tf.reshape(x, [-1, 20, 513, 1])\n",
    "\n",
    "  # Convolutional Layer #1\n",
    "  conv1 = tf.layers.conv2d(\n",
    "      inputs=input_layer,\n",
    "      filters=16,\n",
    "      kernel_size=[4,4],\n",
    "      padding=\"same\",\n",
    "      activation=tf.nn.relu)\n",
    "\n",
    "  # Pooling Layer #1\n",
    "  pool1 = tf.layers.max_pooling2d(inputs=conv1, pool_size=[2,2], strides=[2,2])\n",
    "\n",
    "  # Convolutional Layer #2 and Pooling Layer #2\n",
    "  conv2 = tf.layers.conv2d(\n",
    "      inputs=pool1,\n",
    "      filters=32,\n",
    "      kernel_size=[2,2],\n",
    "      padding=\"same\",\n",
    "      activation=tf.nn.relu)\n",
    "  \n",
    "  pool2 = tf.layers.max_pooling2d(inputs=conv2, pool_size=[2,2], strides=[2,2])\n",
    "\n",
    "  # Dense Layer\n",
    "  pool2_flat = tf.layers.flatten(pool2)\n",
    "  \n",
    "  logits = tf.layers.dense(inputs=pool2_flat, units=513, activation=tf.nn.relu)\n",
    "  \n",
    "  return logits"
   ]
  },
  {
   "cell_type": "code",
   "execution_count": 29,
   "metadata": {},
   "outputs": [],
   "source": [
    "def transform_data(x , size , window_size):\n",
    "  temp = x[0 : 0 + window_size,:]\n",
    "  for i in range(1 , size - window_size + 1):\n",
    "      temp_mini = x[i : i + window_size,:]\n",
    "      temp = np.vstack((temp , temp_mini))\n",
    "      \n",
    "  return temp"
   ]
  },
  {
   "cell_type": "code",
   "execution_count": 30,
   "metadata": {},
   "outputs": [],
   "source": [
    "#Transforming the data in such a way that it takes 20 current and previous input frames\n",
    "transformed_x = transform_data(mag_X.T , np.shape(mag_X.T)[0] , window_size)\n",
    "#Keeping a copy of transformed x because we will require it later on to calculate the SNR\n",
    "transformed_x1 = copy.deepcopy(transformed_x)\n",
    "#Transforming the input data into 2D format\n",
    "transformed_x = np.reshape(transformed_x , (2440 , 20 , 513))\n",
    "#Dropping first 19 frames from y(clean wave) signal\n",
    "transformed_y = (mag_S.T)[window_size - 1 : , :]"
   ]
  },
  {
   "cell_type": "code",
   "execution_count": null,
   "metadata": {},
   "outputs": [
    {
     "name": "stdout",
     "output_type": "stream",
     "text": [
      "Epoch 0, loss 0.00608781\n"
     ]
    }
   ],
   "source": [
    "output = getModel(input)\n",
    "#Defining the loss function along with its optimizer\n",
    "loss = tf.reduce_mean(tf.square(output - labels))\n",
    "train_step = tf.train.AdamOptimizer(learning_rate).minimize(loss)\n",
    "\n",
    "sess = tf.InteractiveSession()\n",
    "sess.run(tf.global_variables_initializer())\n",
    "\n",
    "count = 0\n",
    "flag = True\n",
    "\n",
    "while flag:\n",
    "    size = 0\n",
    "    #Mini batching with the given batch size\n",
    "    for i in range(0 , 2440, batch_size):\n",
    "        size += batch_size\n",
    "        if size <= 2440:\n",
    "            batch_x = transformed_x[i : size, :]\n",
    "            batch_y = transformed_y[i : size, :]\n",
    "        else:\n",
    "            batch_x = transformed_x[i : 2440, :]\n",
    "            batch_y = transformed_y[i : 2440, :]\n",
    "        \n",
    "        \n",
    "        batch_x = batch_x.reshape((np.shape(batch_x)[0] * np.shape(batch_x)[1] , np.shape(batch_x)[2]))\n",
    "        feed_dict = {input: batch_x, labels: batch_y}\n",
    "        train_step.run(feed_dict=feed_dict)\n",
    "\n",
    "    if count%200 == 0:\n",
    "        loss_calc = loss.eval(feed_dict=feed_dict)\n",
    "        print(\"Epoch %d, loss %g\"%(count, loss_calc))\n",
    "    \n",
    "    #Once all the epochs are completed, training is stopped\n",
    "    if count >= num_epochs:\n",
    "        flag = False  \n",
    "        \n",
    "    count+=1"
   ]
  },
  {
   "cell_type": "code",
   "execution_count": null,
   "metadata": {},
   "outputs": [],
   "source": [
    "#Calculating the output from the given input, trained model and layer number\n",
    "def feedforward(input_data, dnn_output):\n",
    "    output = dnn_output.eval(feed_dict = {input : input_data})\n",
    "    \n",
    "    return output\n",
    "\n",
    "#Recovering the complex values of the file from the output of the model\n",
    "def recover_sound(X , mag_X , mag_output):\n",
    "  temp = X / mag_X\n",
    "  s_hat = temp * mag_output\n",
    "  \n",
    "  return s_hat\n",
    "\n",
    "#Recovering the lost frames\n",
    "def recover_data(x , size , value):\n",
    "  temp = np.full(size , value)\n",
    "  output = np.vstack((temp , x))\n",
    "  \n",
    "  return output"
   ]
  },
  {
   "cell_type": "code",
   "execution_count": null,
   "metadata": {},
   "outputs": [],
   "source": [
    "#Transforming the data in such a way that it be given to the model for testing\n",
    "transformed_x_test = transform_data(mag_X_test.T , np.shape(mag_X_test.T)[0] , window_size)\n",
    "transformed_x_test2 = transform_data(mag_X_test2.T , np.shape(mag_X_test2.T)[0] , window_size)"
   ]
  },
  {
   "cell_type": "code",
   "execution_count": null,
   "metadata": {},
   "outputs": [],
   "source": [
    "#Computing the output from the model for both the test files\n",
    "s_hat_test1 = feedforward(transformed_x_test , output)\n",
    "s_hat_test2 = feedforward(transformed_x_test2 , output)\n",
    "\n",
    "#Recovering the first 19 frames that were lost\n",
    "recovered_x_test1 = recover_data(s_hat_test1 , (window_size - 1 , np.shape(s_hat_test1)[1]) , 1e-15)\n",
    "recovered_x_test2 = recover_data(s_hat_test2 , (window_size - 1 , np.shape(s_hat_test2)[1]) , 1e-15)\n",
    "\n",
    "#Recovering the complex values of both the test files\n",
    "s_hat1 = recover_sound(X_test , mag_X_test , recovered_x_test1.T)\n",
    "s_hat2 = recover_sound(X_test2 , mag_X_test2 , recovered_x_test2.T)"
   ]
  },
  {
   "cell_type": "code",
   "execution_count": null,
   "metadata": {},
   "outputs": [],
   "source": [
    "#Reconstructing the test files after removing noise\n",
    "recon_sound = librosa.istft(s_hat1 , hop_length=512 , win_length=1024)\n",
    "sf.write('output/test_CNN2_s_01_recons_q2.wav', recon_sound, sr)\n",
    "\n",
    "recon_sound = librosa.istft(s_hat2 , hop_length=512 , win_length=1024)\n",
    "sf.write('output/test_CNN2_s_02_recons_q2.wav', recon_sound, sr)"
   ]
  },
  {
   "cell_type": "code",
   "execution_count": null,
   "metadata": {},
   "outputs": [],
   "source": [
    "#For testing purpose, feeding the model with train_dirty_male file\n",
    "#From the output generated, reconstructing the audio file\n",
    "s_hat_test3 = feedforward(transformed_x1 , output)\n",
    "recovered_x1 = recover_data(s_hat_test3 , (window_size - 1 , np.shape(s_hat_test3)[1]) , 1e-15)\n",
    "s_hat3 = recover_sound(X, mag_X , recovered_x1.T)\n",
    "recon_sound3 = librosa.istft(s_hat3 , hop_length=512 , win_length=1024)\n",
    "size_recon_sound3 = np.shape(recon_sound3)[0]"
   ]
  },
  {
   "cell_type": "code",
   "execution_count": null,
   "metadata": {},
   "outputs": [],
   "source": [
    "#Once the audio file is generated, calculating the SNR value\n",
    "s = s[: size_recon_sound3]\n",
    "num = np.dot(s.T , s)\n",
    "den = np.dot((s - recon_sound3).T,(s - recon_sound3))\n",
    "SNR = 10 * np.log10(num/den)\n",
    "print('Value of SNR : ' + str(SNR))"
   ]
  },
  {
   "cell_type": "code",
   "execution_count": null,
   "metadata": {},
   "outputs": [],
   "source": []
  }
 ],
 "metadata": {
  "accelerator": "GPU",
  "colab": {
   "collapsed_sections": [],
   "name": "Question2_Assignment1.ipynb",
   "provenance": [],
   "version": "0.3.2"
  },
  "kernelspec": {
   "display_name": "Python 3",
   "language": "python",
   "name": "python3"
  },
  "language_info": {
   "codemirror_mode": {
    "name": "ipython",
    "version": 3
   },
   "file_extension": ".py",
   "mimetype": "text/x-python",
   "name": "python",
   "nbconvert_exporter": "python",
   "pygments_lexer": "ipython3",
   "version": "3.8.8"
  }
 },
 "nbformat": 4,
 "nbformat_minor": 1
}
